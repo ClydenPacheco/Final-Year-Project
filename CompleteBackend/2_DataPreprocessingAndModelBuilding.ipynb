{
  "nbformat": 4,
  "nbformat_minor": 0,
  "metadata": {
    "colab": {
      "provenance": [],
      "gpuType": "T4"
    },
    "kernelspec": {
      "name": "python3",
      "display_name": "Python 3"
    },
    "language_info": {
      "name": "python"
    },
    "accelerator": "GPU"
  },
  "cells": [
    {
      "cell_type": "code",
      "execution_count": 1,
      "metadata": {
        "id": "6mzi5zAb4CwW"
      },
      "outputs": [],
      "source": [
        "# Import libraries\n",
        "import numpy as np\n",
        "import pandas as pd\n",
        "from keras.models import Sequential\n",
        "from keras.layers import LSTM\n",
        "from keras.layers import Dense, Dropout\n",
        "import keras\n",
        "import pandas as pd\n",
        "from matplotlib import pyplot as plt\n",
        "import seaborn as sns\n",
        "from sklearn.preprocessing import MinMaxScaler\n",
        "from sklearn.preprocessing import StandardScaler\n",
        "from datetime import datetime\n",
        "from pandas_datareader.data import DataReader\n",
        "import yfinance as yf\n",
        "from pandas_datareader import data as pdr\n",
        "from urllib.request import Request, urlopen\n",
        "from bs4 import BeautifulSoup\n",
        "import requests\n",
        "from transformers import AutoTokenizer, AutoModelForSequenceClassification\n",
        "from scipy.special import softmax\n",
        "from pandas.tseries.holiday import USFederalHolidayCalendar\n",
        "from pandas.tseries.offsets import CustomBusinessDay\n",
        "from sklearn.impute import SimpleImputer\n",
        "from sklearn.preprocessing import StandardScaler, OneHotEncoder"
      ]
    },
    {
      "cell_type": "code",
      "source": [
        "df_for_training = pd.read_csv(\"/content/drive/MyDrive/Datasets/Project/df_for_training.csv\")"
      ],
      "metadata": {
        "id": "BbFxE9sU4kWy"
      },
      "execution_count": 2,
      "outputs": []
    },
    {
      "cell_type": "code",
      "source": [
        "df_for_training.shape"
      ],
      "metadata": {
        "colab": {
          "base_uri": "https://localhost:8080/"
        },
        "id": "c3KghI2q4tgN",
        "outputId": "dbcb74da-a8dd-43cb-db98-bf88aaad23e3"
      },
      "execution_count": 3,
      "outputs": [
        {
          "output_type": "execute_result",
          "data": {
            "text/plain": [
              "(24548, 57)"
            ]
          },
          "metadata": {},
          "execution_count": 3
        }
      ]
    },
    {
      "cell_type": "code",
      "source": [
        "# Function to create sequences\n",
        "def singleStepSampler(df, window):\n",
        "\txRes = []\n",
        "\tyRes = []\n",
        "\tfor i in range(0, len(df) - window):\n",
        "\t\tres = []\n",
        "\t\tfor j in range(0, window):\n",
        "\t\t\tr = []\n",
        "\t\t\tfor col in df.columns:\n",
        "\t\t\t\tr.append(df[col][i + j])\n",
        "\t\t\tres.append(r)\n",
        "\t\txRes.append(res)\n",
        "\t\tyRes.append(df[['Open', 'Close']].iloc[i + window].values)\n",
        "\treturn np.array(xRes), np.array(yRes)"
      ],
      "metadata": {
        "id": "vcLgJK2-4yug"
      },
      "execution_count": 4,
      "outputs": []
    },
    {
      "cell_type": "code",
      "source": [
        "# Dataset splitting\n",
        "SPLIT = 1.0\n",
        "(xVal, yVal) = singleStepSampler(df_for_training, 20)\n",
        "X_train = xVal[:int(SPLIT * len(xVal))]\n",
        "y_train = yVal[:int(SPLIT * len(yVal))]\n",
        "X_test = xVal[int(SPLIT * len(xVal)):]\n",
        "y_test = yVal[int(SPLIT * len(yVal)):]\n",
        "print(xVal.shape)\n",
        "print(yVal.shape)\n",
        "print(X_train.shape)\n",
        "print(y_train.shape)\n",
        "print(X_test.shape)\n",
        "print(y_test.shape)"
      ],
      "metadata": {
        "colab": {
          "base_uri": "https://localhost:8080/"
        },
        "id": "Omz3OAZs5Apb",
        "outputId": "919b5ed8-082c-42ed-c981-890a71a1f89e"
      },
      "execution_count": 5,
      "outputs": [
        {
          "output_type": "stream",
          "name": "stdout",
          "text": [
            "(24528, 20, 57)\n",
            "(24528, 2)\n",
            "(24528, 20, 57)\n",
            "(24528, 2)\n",
            "(0, 20, 57)\n",
            "(0, 2)\n"
          ]
        }
      ]
    },
    {
      "cell_type": "code",
      "source": [
        "# Building the model\n",
        "multivariate_lstm = keras.Sequential()\n",
        "multivariate_lstm.add(keras.layers.LSTM(200, input_shape=(X_train.shape[1], X_train.shape[2])))\n",
        "multivariate_lstm.add(keras.layers.Dropout(0.2))\n",
        "multivariate_lstm.add(keras.layers.Dense(2, activation='linear'))\n",
        "multivariate_lstm.compile(loss = 'MeanSquaredError', metrics=['MAE'], optimizer='Adam')\n",
        "multivariate_lstm.summary()"
      ],
      "metadata": {
        "colab": {
          "base_uri": "https://localhost:8080/"
        },
        "id": "1ubmvlCi6f71",
        "outputId": "092e68c0-4e32-420f-dbe8-f2ce8bb43517"
      },
      "execution_count": 6,
      "outputs": [
        {
          "output_type": "stream",
          "name": "stdout",
          "text": [
            "Model: \"sequential\"\n",
            "_________________________________________________________________\n",
            " Layer (type)                Output Shape              Param #   \n",
            "=================================================================\n",
            " lstm (LSTM)                 (None, 200)               206400    \n",
            "                                                                 \n",
            " dropout (Dropout)           (None, 200)               0         \n",
            "                                                                 \n",
            " dense (Dense)               (None, 2)                 402       \n",
            "                                                                 \n",
            "=================================================================\n",
            "Total params: 206802 (807.82 KB)\n",
            "Trainable params: 206802 (807.82 KB)\n",
            "Non-trainable params: 0 (0.00 Byte)\n",
            "_________________________________________________________________\n"
          ]
        }
      ]
    },
    {
      "cell_type": "code",
      "source": [
        "# Fitting the data to the model\n",
        "history = multivariate_lstm.fit(X_train, y_train, epochs=100)"
      ],
      "metadata": {
        "colab": {
          "base_uri": "https://localhost:8080/"
        },
        "id": "0UiGrwAB6gnU",
        "outputId": "ca075023-334c-4473-ca63-01f2998048c1"
      },
      "execution_count": 7,
      "outputs": [
        {
          "output_type": "stream",
          "name": "stdout",
          "text": [
            "Epoch 1/100\n",
            "767/767 [==============================] - 9s 6ms/step - loss: 0.0054 - MAE: 0.0470\n",
            "Epoch 2/100\n",
            "767/767 [==============================] - 4s 5ms/step - loss: 0.0027 - MAE: 0.0329\n",
            "Epoch 3/100\n",
            "767/767 [==============================] - 4s 5ms/step - loss: 0.0023 - MAE: 0.0286\n",
            "Epoch 4/100\n",
            "767/767 [==============================] - 4s 5ms/step - loss: 0.0022 - MAE: 0.0271\n",
            "Epoch 5/100\n",
            "767/767 [==============================] - 5s 6ms/step - loss: 0.0020 - MAE: 0.0255\n",
            "Epoch 6/100\n",
            "767/767 [==============================] - 4s 5ms/step - loss: 0.0020 - MAE: 0.0252\n",
            "Epoch 7/100\n",
            "767/767 [==============================] - 4s 5ms/step - loss: 0.0020 - MAE: 0.0241\n",
            "Epoch 8/100\n",
            "767/767 [==============================] - 5s 6ms/step - loss: 0.0018 - MAE: 0.0238\n",
            "Epoch 9/100\n",
            "767/767 [==============================] - 4s 6ms/step - loss: 0.0018 - MAE: 0.0235\n",
            "Epoch 10/100\n",
            "767/767 [==============================] - 4s 5ms/step - loss: 0.0017 - MAE: 0.0228\n",
            "Epoch 11/100\n",
            "767/767 [==============================] - 4s 5ms/step - loss: 0.0017 - MAE: 0.0229\n",
            "Epoch 12/100\n",
            "767/767 [==============================] - 5s 7ms/step - loss: 0.0016 - MAE: 0.0224\n",
            "Epoch 13/100\n",
            "767/767 [==============================] - 4s 5ms/step - loss: 0.0016 - MAE: 0.0219\n",
            "Epoch 14/100\n",
            "767/767 [==============================] - 4s 5ms/step - loss: 0.0015 - MAE: 0.0217\n",
            "Epoch 15/100\n",
            "767/767 [==============================] - 4s 6ms/step - loss: 0.0014 - MAE: 0.0214\n",
            "Epoch 16/100\n",
            "767/767 [==============================] - 5s 6ms/step - loss: 0.0014 - MAE: 0.0213\n",
            "Epoch 17/100\n",
            "767/767 [==============================] - 4s 5ms/step - loss: 0.0013 - MAE: 0.0208\n",
            "Epoch 18/100\n",
            "767/767 [==============================] - 4s 5ms/step - loss: 0.0013 - MAE: 0.0206\n",
            "Epoch 19/100\n",
            "767/767 [==============================] - 5s 6ms/step - loss: 0.0013 - MAE: 0.0207\n",
            "Epoch 20/100\n",
            "767/767 [==============================] - 5s 6ms/step - loss: 0.0013 - MAE: 0.0204\n",
            "Epoch 21/100\n",
            "767/767 [==============================] - 4s 5ms/step - loss: 0.0012 - MAE: 0.0200\n",
            "Epoch 22/100\n",
            "767/767 [==============================] - 5s 6ms/step - loss: 0.0011 - MAE: 0.0198\n",
            "Epoch 23/100\n",
            "767/767 [==============================] - 4s 5ms/step - loss: 0.0013 - MAE: 0.0210\n",
            "Epoch 24/100\n",
            "767/767 [==============================] - 4s 5ms/step - loss: 0.0011 - MAE: 0.0197\n",
            "Epoch 25/100\n",
            "767/767 [==============================] - 4s 5ms/step - loss: 0.0010 - MAE: 0.0194\n",
            "Epoch 26/100\n",
            "767/767 [==============================] - 5s 6ms/step - loss: 0.0012 - MAE: 0.0198\n",
            "Epoch 27/100\n",
            "767/767 [==============================] - 4s 5ms/step - loss: 0.0011 - MAE: 0.0198\n",
            "Epoch 28/100\n",
            "767/767 [==============================] - 4s 5ms/step - loss: 0.0010 - MAE: 0.0193\n",
            "Epoch 29/100\n",
            "767/767 [==============================] - 5s 6ms/step - loss: 9.5686e-04 - MAE: 0.0190\n",
            "Epoch 30/100\n",
            "767/767 [==============================] - 4s 5ms/step - loss: 9.7895e-04 - MAE: 0.0191\n",
            "Epoch 31/100\n",
            "767/767 [==============================] - 4s 5ms/step - loss: 9.9162e-04 - MAE: 0.0194\n",
            "Epoch 32/100\n",
            "767/767 [==============================] - 4s 5ms/step - loss: 9.1404e-04 - MAE: 0.0189\n",
            "Epoch 33/100\n",
            "767/767 [==============================] - 5s 6ms/step - loss: 9.2623e-04 - MAE: 0.0190\n",
            "Epoch 34/100\n",
            "767/767 [==============================] - 4s 5ms/step - loss: 8.5457e-04 - MAE: 0.0187\n",
            "Epoch 35/100\n",
            "767/767 [==============================] - 4s 5ms/step - loss: 8.3872e-04 - MAE: 0.0186\n",
            "Epoch 36/100\n",
            "767/767 [==============================] - 5s 6ms/step - loss: 8.5280e-04 - MAE: 0.0186\n",
            "Epoch 37/100\n",
            "767/767 [==============================] - 4s 5ms/step - loss: 9.3030e-04 - MAE: 0.0193\n",
            "Epoch 38/100\n",
            "767/767 [==============================] - 4s 5ms/step - loss: 9.6788e-04 - MAE: 0.0190\n",
            "Epoch 39/100\n",
            "767/767 [==============================] - 4s 5ms/step - loss: 8.2024e-04 - MAE: 0.0183\n",
            "Epoch 40/100\n",
            "767/767 [==============================] - 5s 6ms/step - loss: 8.7588e-04 - MAE: 0.0188\n",
            "Epoch 41/100\n",
            "767/767 [==============================] - 4s 5ms/step - loss: 8.0663e-04 - MAE: 0.0184\n",
            "Epoch 42/100\n",
            "767/767 [==============================] - 4s 5ms/step - loss: 7.7190e-04 - MAE: 0.0183\n",
            "Epoch 43/100\n",
            "767/767 [==============================] - 5s 6ms/step - loss: 9.9320e-04 - MAE: 0.0192\n",
            "Epoch 44/100\n",
            "767/767 [==============================] - 4s 5ms/step - loss: 7.7652e-04 - MAE: 0.0183\n",
            "Epoch 45/100\n",
            "767/767 [==============================] - 4s 5ms/step - loss: 7.7308e-04 - MAE: 0.0182\n",
            "Epoch 46/100\n",
            "767/767 [==============================] - 4s 5ms/step - loss: 7.7025e-04 - MAE: 0.0181\n",
            "Epoch 47/100\n",
            "767/767 [==============================] - 5s 6ms/step - loss: 7.5592e-04 - MAE: 0.0180\n",
            "Epoch 48/100\n",
            "767/767 [==============================] - 4s 5ms/step - loss: 7.6487e-04 - MAE: 0.0181\n",
            "Epoch 49/100\n",
            "767/767 [==============================] - 4s 5ms/step - loss: 7.4546e-04 - MAE: 0.0178\n",
            "Epoch 50/100\n",
            "767/767 [==============================] - 4s 6ms/step - loss: 7.6624e-04 - MAE: 0.0181\n",
            "Epoch 51/100\n",
            "767/767 [==============================] - 4s 6ms/step - loss: 7.2461e-04 - MAE: 0.0178\n",
            "Epoch 52/100\n",
            "767/767 [==============================] - 4s 5ms/step - loss: 7.2160e-04 - MAE: 0.0178\n",
            "Epoch 53/100\n",
            "767/767 [==============================] - 4s 5ms/step - loss: 7.0260e-04 - MAE: 0.0178\n",
            "Epoch 54/100\n",
            "767/767 [==============================] - 5s 7ms/step - loss: 6.9494e-04 - MAE: 0.0177\n",
            "Epoch 55/100\n",
            "767/767 [==============================] - 4s 5ms/step - loss: 7.2375e-04 - MAE: 0.0179\n",
            "Epoch 56/100\n",
            "767/767 [==============================] - 4s 5ms/step - loss: 8.9790e-04 - MAE: 0.0188\n",
            "Epoch 57/100\n",
            "767/767 [==============================] - 4s 6ms/step - loss: 6.9046e-04 - MAE: 0.0176\n",
            "Epoch 58/100\n",
            "767/767 [==============================] - 4s 6ms/step - loss: 6.9435e-04 - MAE: 0.0176\n",
            "Epoch 59/100\n",
            "767/767 [==============================] - 4s 5ms/step - loss: 7.3766e-04 - MAE: 0.0178\n",
            "Epoch 60/100\n",
            "767/767 [==============================] - 4s 5ms/step - loss: 7.0531e-04 - MAE: 0.0176\n",
            "Epoch 61/100\n",
            "767/767 [==============================] - 5s 6ms/step - loss: 7.0170e-04 - MAE: 0.0176\n",
            "Epoch 62/100\n",
            "767/767 [==============================] - 4s 5ms/step - loss: 7.4516e-04 - MAE: 0.0179\n",
            "Epoch 63/100\n",
            "767/767 [==============================] - 4s 5ms/step - loss: 7.3379e-04 - MAE: 0.0178\n",
            "Epoch 64/100\n",
            "767/767 [==============================] - 4s 6ms/step - loss: 6.8877e-04 - MAE: 0.0175\n",
            "Epoch 65/100\n",
            "767/767 [==============================] - 4s 6ms/step - loss: 7.0576e-04 - MAE: 0.0176\n",
            "Epoch 66/100\n",
            "767/767 [==============================] - 5s 6ms/step - loss: 6.7195e-04 - MAE: 0.0174\n",
            "Epoch 67/100\n",
            "767/767 [==============================] - 4s 5ms/step - loss: 6.7500e-04 - MAE: 0.0175\n",
            "Epoch 68/100\n",
            "767/767 [==============================] - 4s 6ms/step - loss: 7.1703e-04 - MAE: 0.0178\n",
            "Epoch 69/100\n",
            "767/767 [==============================] - 4s 5ms/step - loss: 6.9573e-04 - MAE: 0.0176\n",
            "Epoch 70/100\n",
            "767/767 [==============================] - 4s 5ms/step - loss: 6.6922e-04 - MAE: 0.0174\n",
            "Epoch 71/100\n",
            "767/767 [==============================] - 5s 6ms/step - loss: 6.5790e-04 - MAE: 0.0173\n",
            "Epoch 72/100\n",
            "767/767 [==============================] - 4s 5ms/step - loss: 7.0702e-04 - MAE: 0.0177\n",
            "Epoch 73/100\n",
            "767/767 [==============================] - 4s 5ms/step - loss: 6.8079e-04 - MAE: 0.0176\n",
            "Epoch 74/100\n",
            "767/767 [==============================] - 4s 6ms/step - loss: 6.7173e-04 - MAE: 0.0174\n",
            "Epoch 75/100\n",
            "767/767 [==============================] - 4s 6ms/step - loss: 6.4421e-04 - MAE: 0.0172\n",
            "Epoch 76/100\n",
            "767/767 [==============================] - 4s 5ms/step - loss: 6.5585e-04 - MAE: 0.0173\n",
            "Epoch 77/100\n",
            "767/767 [==============================] - 4s 5ms/step - loss: 6.6248e-04 - MAE: 0.0173\n",
            "Epoch 78/100\n",
            "767/767 [==============================] - 5s 6ms/step - loss: 6.4570e-04 - MAE: 0.0172\n",
            "Epoch 79/100\n",
            "767/767 [==============================] - 4s 5ms/step - loss: 6.8687e-04 - MAE: 0.0175\n",
            "Epoch 80/100\n",
            "767/767 [==============================] - 4s 5ms/step - loss: 6.6029e-04 - MAE: 0.0173\n",
            "Epoch 81/100\n",
            "767/767 [==============================] - 4s 6ms/step - loss: 7.1216e-04 - MAE: 0.0175\n",
            "Epoch 82/100\n",
            "767/767 [==============================] - 4s 6ms/step - loss: 6.6774e-04 - MAE: 0.0173\n",
            "Epoch 83/100\n",
            "767/767 [==============================] - 4s 5ms/step - loss: 6.3838e-04 - MAE: 0.0171\n",
            "Epoch 84/100\n",
            "767/767 [==============================] - 4s 5ms/step - loss: 6.5087e-04 - MAE: 0.0172\n",
            "Epoch 85/100\n",
            "767/767 [==============================] - 5s 6ms/step - loss: 6.4474e-04 - MAE: 0.0172\n",
            "Epoch 86/100\n",
            "767/767 [==============================] - 4s 5ms/step - loss: 6.4186e-04 - MAE: 0.0173\n",
            "Epoch 87/100\n",
            "767/767 [==============================] - 4s 5ms/step - loss: 6.5502e-04 - MAE: 0.0173\n",
            "Epoch 88/100\n",
            "767/767 [==============================] - 4s 6ms/step - loss: 6.5511e-04 - MAE: 0.0174\n",
            "Epoch 89/100\n",
            "767/767 [==============================] - 5s 6ms/step - loss: 6.3308e-04 - MAE: 0.0170\n",
            "Epoch 90/100\n",
            "767/767 [==============================] - 4s 5ms/step - loss: 6.3096e-04 - MAE: 0.0170\n",
            "Epoch 91/100\n",
            "767/767 [==============================] - 4s 5ms/step - loss: 6.3436e-04 - MAE: 0.0171\n",
            "Epoch 92/100\n",
            "767/767 [==============================] - 5s 6ms/step - loss: 6.3768e-04 - MAE: 0.0171\n",
            "Epoch 93/100\n",
            "767/767 [==============================] - 4s 5ms/step - loss: 6.5491e-04 - MAE: 0.0172\n",
            "Epoch 94/100\n",
            "767/767 [==============================] - 4s 5ms/step - loss: 6.1905e-04 - MAE: 0.0170\n",
            "Epoch 95/100\n",
            "767/767 [==============================] - 4s 5ms/step - loss: 6.1949e-04 - MAE: 0.0170\n",
            "Epoch 96/100\n",
            "767/767 [==============================] - 4s 6ms/step - loss: 6.5584e-04 - MAE: 0.0172\n",
            "Epoch 97/100\n",
            "767/767 [==============================] - 4s 5ms/step - loss: 6.4807e-04 - MAE: 0.0172\n",
            "Epoch 98/100\n",
            "767/767 [==============================] - 4s 5ms/step - loss: 6.3495e-04 - MAE: 0.0171\n",
            "Epoch 99/100\n",
            "767/767 [==============================] - 5s 6ms/step - loss: 6.1614e-04 - MAE: 0.0170\n",
            "Epoch 100/100\n",
            "767/767 [==============================] - 4s 5ms/step - loss: 6.1458e-04 - MAE: 0.0170\n"
          ]
        }
      ]
    },
    {
      "cell_type": "code",
      "source": [
        "# Save the model to a specific path\n",
        "model_path = '/content/drive/MyDrive/Final Year Project/multivariate_lstm_model2.h5'\n",
        "multivariate_lstm.save(model_path)"
      ],
      "metadata": {
        "colab": {
          "base_uri": "https://localhost:8080/"
        },
        "id": "_5KqDP2QCyYa",
        "outputId": "fbe2bb2b-1141-419f-c372-aba2e254c076"
      },
      "execution_count": 36,
      "outputs": [
        {
          "output_type": "stream",
          "name": "stderr",
          "text": [
            "/usr/local/lib/python3.10/dist-packages/keras/src/engine/training.py:3103: UserWarning: You are saving your model as an HDF5 file via `model.save()`. This file format is considered legacy. We recommend using instead the native Keras format, e.g. `model.save('my_model.keras')`.\n",
            "  saving_api.save_model(\n"
          ]
        }
      ]
    }
  ]
}