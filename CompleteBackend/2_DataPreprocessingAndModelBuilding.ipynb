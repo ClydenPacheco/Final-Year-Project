{
 "cells": [
  {
   "cell_type": "code",
   "execution_count": null,
   "metadata": {
    "executionInfo": {
     "elapsed": 10959,
     "status": "ok",
     "timestamp": 1718822278029,
     "user": {
      "displayName": "Clyden Pacheco",
      "userId": "07798596330758231105"
     },
     "user_tz": -330
    },
    "id": "6mzi5zAb4CwW"
   },
   "outputs": [],
   "source": [
    "# Import libraries\n",
    "import numpy as np\n",
    "import pandas as pd\n",
    "import keras\n",
    "from keras.models import Sequential\n",
    "from keras.layers import LSTM\n",
    "from keras.layers import Dense, Dropout"
   ]
  },
  {
   "cell_type": "code",
   "execution_count": 3,
   "metadata": {
    "executionInfo": {
     "elapsed": 1337,
     "status": "ok",
     "timestamp": 1718822281151,
     "user": {
      "displayName": "Clyden Pacheco",
      "userId": "07798596330758231105"
     },
     "user_tz": -330
    },
    "id": "BbFxE9sU4kWy"
   },
   "outputs": [],
   "source": [
    "df_for_training = pd.read_csv(\"/Excel/df_for_training.csv\")"
   ]
  },
  {
   "cell_type": "code",
   "execution_count": 4,
   "metadata": {
    "colab": {
     "base_uri": "https://localhost:8080/"
    },
    "executionInfo": {
     "elapsed": 2,
     "status": "ok",
     "timestamp": 1718822282752,
     "user": {
      "displayName": "Clyden Pacheco",
      "userId": "07798596330758231105"
     },
     "user_tz": -330
    },
    "id": "c3KghI2q4tgN",
    "outputId": "8b3fce72-47e7-49d8-90fd-d0ea27ec2995"
   },
   "outputs": [
    {
     "data": {
      "text/plain": [
       "(24548, 57)"
      ]
     },
     "execution_count": 4,
     "metadata": {},
     "output_type": "execute_result"
    }
   ],
   "source": [
    "df_for_training.shape"
   ]
  },
  {
   "cell_type": "code",
   "execution_count": 9,
   "metadata": {},
   "outputs": [
    {
     "data": {
      "text/html": [
       "<div>\n",
       "<style scoped>\n",
       "    .dataframe tbody tr th:only-of-type {\n",
       "        vertical-align: middle;\n",
       "    }\n",
       "\n",
       "    .dataframe tbody tr th {\n",
       "        vertical-align: top;\n",
       "    }\n",
       "\n",
       "    .dataframe thead th {\n",
       "        text-align: right;\n",
       "    }\n",
       "</style>\n",
       "<table border=\"1\" class=\"dataframe\">\n",
       "  <thead>\n",
       "    <tr style=\"text-align: right;\">\n",
       "      <th></th>\n",
       "      <th>Open</th>\n",
       "      <th>High</th>\n",
       "      <th>Low</th>\n",
       "      <th>Close</th>\n",
       "      <th>Adj Close</th>\n",
       "      <th>Volume</th>\n",
       "      <th>Sentiments</th>\n",
       "      <th>Stock_ADANIENT.NS</th>\n",
       "      <th>Stock_ADANIPORTS.NS</th>\n",
       "      <th>Stock_APOLLOHOSP.NS</th>\n",
       "      <th>...</th>\n",
       "      <th>Stock_SHRIRAMFIN.NS</th>\n",
       "      <th>Stock_SUNPHARMA.NS</th>\n",
       "      <th>Stock_TATACONSUM.NS</th>\n",
       "      <th>Stock_TATAMOTORS.NS</th>\n",
       "      <th>Stock_TATASTEEL.NS</th>\n",
       "      <th>Stock_TCS.NS</th>\n",
       "      <th>Stock_TECHM.NS</th>\n",
       "      <th>Stock_TITAN.NS</th>\n",
       "      <th>Stock_ULTRACEMCO.NS</th>\n",
       "      <th>Stock_WIPRO.NS</th>\n",
       "    </tr>\n",
       "  </thead>\n",
       "  <tbody>\n",
       "    <tr>\n",
       "      <th>0</th>\n",
       "      <td>0.344884</td>\n",
       "      <td>0.313330</td>\n",
       "      <td>0.378343</td>\n",
       "      <td>0.339727</td>\n",
       "      <td>0.339412</td>\n",
       "      <td>0.024234</td>\n",
       "      <td>0.454308</td>\n",
       "      <td>1.0</td>\n",
       "      <td>0.0</td>\n",
       "      <td>0.0</td>\n",
       "      <td>...</td>\n",
       "      <td>0.0</td>\n",
       "      <td>0.0</td>\n",
       "      <td>0.0</td>\n",
       "      <td>0.0</td>\n",
       "      <td>0.0</td>\n",
       "      <td>0.0</td>\n",
       "      <td>0.0</td>\n",
       "      <td>0.0</td>\n",
       "      <td>0.0</td>\n",
       "      <td>0.0</td>\n",
       "    </tr>\n",
       "    <tr>\n",
       "      <th>1</th>\n",
       "      <td>0.339109</td>\n",
       "      <td>0.298554</td>\n",
       "      <td>0.344151</td>\n",
       "      <td>0.298220</td>\n",
       "      <td>0.297923</td>\n",
       "      <td>0.034739</td>\n",
       "      <td>0.454308</td>\n",
       "      <td>1.0</td>\n",
       "      <td>0.0</td>\n",
       "      <td>0.0</td>\n",
       "      <td>...</td>\n",
       "      <td>0.0</td>\n",
       "      <td>0.0</td>\n",
       "      <td>0.0</td>\n",
       "      <td>0.0</td>\n",
       "      <td>0.0</td>\n",
       "      <td>0.0</td>\n",
       "      <td>0.0</td>\n",
       "      <td>0.0</td>\n",
       "      <td>0.0</td>\n",
       "      <td>0.0</td>\n",
       "    </tr>\n",
       "    <tr>\n",
       "      <th>2</th>\n",
       "      <td>0.372607</td>\n",
       "      <td>0.333843</td>\n",
       "      <td>0.339674</td>\n",
       "      <td>0.337489</td>\n",
       "      <td>0.337175</td>\n",
       "      <td>0.143612</td>\n",
       "      <td>0.454308</td>\n",
       "      <td>1.0</td>\n",
       "      <td>0.0</td>\n",
       "      <td>0.0</td>\n",
       "      <td>...</td>\n",
       "      <td>0.0</td>\n",
       "      <td>0.0</td>\n",
       "      <td>0.0</td>\n",
       "      <td>0.0</td>\n",
       "      <td>0.0</td>\n",
       "      <td>0.0</td>\n",
       "      <td>0.0</td>\n",
       "      <td>0.0</td>\n",
       "      <td>0.0</td>\n",
       "      <td>0.0</td>\n",
       "    </tr>\n",
       "    <tr>\n",
       "      <th>3</th>\n",
       "      <td>0.354257</td>\n",
       "      <td>0.314964</td>\n",
       "      <td>0.379393</td>\n",
       "      <td>0.333502</td>\n",
       "      <td>0.333189</td>\n",
       "      <td>0.024412</td>\n",
       "      <td>0.454308</td>\n",
       "      <td>1.0</td>\n",
       "      <td>0.0</td>\n",
       "      <td>0.0</td>\n",
       "      <td>...</td>\n",
       "      <td>0.0</td>\n",
       "      <td>0.0</td>\n",
       "      <td>0.0</td>\n",
       "      <td>0.0</td>\n",
       "      <td>0.0</td>\n",
       "      <td>0.0</td>\n",
       "      <td>0.0</td>\n",
       "      <td>0.0</td>\n",
       "      <td>0.0</td>\n",
       "      <td>0.0</td>\n",
       "    </tr>\n",
       "    <tr>\n",
       "      <th>4</th>\n",
       "      <td>0.349835</td>\n",
       "      <td>0.314130</td>\n",
       "      <td>0.347202</td>\n",
       "      <td>0.299314</td>\n",
       "      <td>0.299016</td>\n",
       "      <td>0.043164</td>\n",
       "      <td>0.454308</td>\n",
       "      <td>1.0</td>\n",
       "      <td>0.0</td>\n",
       "      <td>0.0</td>\n",
       "      <td>...</td>\n",
       "      <td>0.0</td>\n",
       "      <td>0.0</td>\n",
       "      <td>0.0</td>\n",
       "      <td>0.0</td>\n",
       "      <td>0.0</td>\n",
       "      <td>0.0</td>\n",
       "      <td>0.0</td>\n",
       "      <td>0.0</td>\n",
       "      <td>0.0</td>\n",
       "      <td>0.0</td>\n",
       "    </tr>\n",
       "    <tr>\n",
       "      <th>...</th>\n",
       "      <td>...</td>\n",
       "      <td>...</td>\n",
       "      <td>...</td>\n",
       "      <td>...</td>\n",
       "      <td>...</td>\n",
       "      <td>...</td>\n",
       "      <td>...</td>\n",
       "      <td>...</td>\n",
       "      <td>...</td>\n",
       "      <td>...</td>\n",
       "      <td>...</td>\n",
       "      <td>...</td>\n",
       "      <td>...</td>\n",
       "      <td>...</td>\n",
       "      <td>...</td>\n",
       "      <td>...</td>\n",
       "      <td>...</td>\n",
       "      <td>...</td>\n",
       "      <td>...</td>\n",
       "      <td>...</td>\n",
       "      <td>...</td>\n",
       "    </tr>\n",
       "    <tr>\n",
       "      <th>24543</th>\n",
       "      <td>0.490687</td>\n",
       "      <td>0.485012</td>\n",
       "      <td>0.493933</td>\n",
       "      <td>0.470557</td>\n",
       "      <td>0.472697</td>\n",
       "      <td>0.044699</td>\n",
       "      <td>0.256683</td>\n",
       "      <td>0.0</td>\n",
       "      <td>0.0</td>\n",
       "      <td>0.0</td>\n",
       "      <td>...</td>\n",
       "      <td>0.0</td>\n",
       "      <td>0.0</td>\n",
       "      <td>0.0</td>\n",
       "      <td>0.0</td>\n",
       "      <td>0.0</td>\n",
       "      <td>0.0</td>\n",
       "      <td>0.0</td>\n",
       "      <td>0.0</td>\n",
       "      <td>0.0</td>\n",
       "      <td>1.0</td>\n",
       "    </tr>\n",
       "    <tr>\n",
       "      <th>24544</th>\n",
       "      <td>0.467802</td>\n",
       "      <td>0.459897</td>\n",
       "      <td>0.358522</td>\n",
       "      <td>0.438704</td>\n",
       "      <td>0.440973</td>\n",
       "      <td>0.115144</td>\n",
       "      <td>0.166468</td>\n",
       "      <td>0.0</td>\n",
       "      <td>0.0</td>\n",
       "      <td>0.0</td>\n",
       "      <td>...</td>\n",
       "      <td>0.0</td>\n",
       "      <td>0.0</td>\n",
       "      <td>0.0</td>\n",
       "      <td>0.0</td>\n",
       "      <td>0.0</td>\n",
       "      <td>0.0</td>\n",
       "      <td>0.0</td>\n",
       "      <td>0.0</td>\n",
       "      <td>0.0</td>\n",
       "      <td>1.0</td>\n",
       "    </tr>\n",
       "    <tr>\n",
       "      <th>24545</th>\n",
       "      <td>0.434806</td>\n",
       "      <td>0.509047</td>\n",
       "      <td>0.480143</td>\n",
       "      <td>0.510171</td>\n",
       "      <td>0.512151</td>\n",
       "      <td>0.071241</td>\n",
       "      <td>0.367750</td>\n",
       "      <td>0.0</td>\n",
       "      <td>0.0</td>\n",
       "      <td>0.0</td>\n",
       "      <td>...</td>\n",
       "      <td>0.0</td>\n",
       "      <td>0.0</td>\n",
       "      <td>0.0</td>\n",
       "      <td>0.0</td>\n",
       "      <td>0.0</td>\n",
       "      <td>0.0</td>\n",
       "      <td>0.0</td>\n",
       "      <td>0.0</td>\n",
       "      <td>0.0</td>\n",
       "      <td>1.0</td>\n",
       "    </tr>\n",
       "    <tr>\n",
       "      <th>24546</th>\n",
       "      <td>0.515966</td>\n",
       "      <td>0.546854</td>\n",
       "      <td>0.554881</td>\n",
       "      <td>0.561028</td>\n",
       "      <td>0.562802</td>\n",
       "      <td>0.096620</td>\n",
       "      <td>0.533555</td>\n",
       "      <td>0.0</td>\n",
       "      <td>0.0</td>\n",
       "      <td>0.0</td>\n",
       "      <td>...</td>\n",
       "      <td>0.0</td>\n",
       "      <td>0.0</td>\n",
       "      <td>0.0</td>\n",
       "      <td>0.0</td>\n",
       "      <td>0.0</td>\n",
       "      <td>0.0</td>\n",
       "      <td>0.0</td>\n",
       "      <td>0.0</td>\n",
       "      <td>0.0</td>\n",
       "      <td>1.0</td>\n",
       "    </tr>\n",
       "    <tr>\n",
       "      <th>24547</th>\n",
       "      <td>0.596062</td>\n",
       "      <td>0.678639</td>\n",
       "      <td>0.641478</td>\n",
       "      <td>0.687098</td>\n",
       "      <td>0.688363</td>\n",
       "      <td>0.556647</td>\n",
       "      <td>0.633596</td>\n",
       "      <td>0.0</td>\n",
       "      <td>0.0</td>\n",
       "      <td>0.0</td>\n",
       "      <td>...</td>\n",
       "      <td>0.0</td>\n",
       "      <td>0.0</td>\n",
       "      <td>0.0</td>\n",
       "      <td>0.0</td>\n",
       "      <td>0.0</td>\n",
       "      <td>0.0</td>\n",
       "      <td>0.0</td>\n",
       "      <td>0.0</td>\n",
       "      <td>0.0</td>\n",
       "      <td>1.0</td>\n",
       "    </tr>\n",
       "  </tbody>\n",
       "</table>\n",
       "<p>24548 rows × 57 columns</p>\n",
       "</div>"
      ],
      "text/plain": [
       "           Open      High       Low     Close  Adj Close    Volume  \\\n",
       "0      0.344884  0.313330  0.378343  0.339727   0.339412  0.024234   \n",
       "1      0.339109  0.298554  0.344151  0.298220   0.297923  0.034739   \n",
       "2      0.372607  0.333843  0.339674  0.337489   0.337175  0.143612   \n",
       "3      0.354257  0.314964  0.379393  0.333502   0.333189  0.024412   \n",
       "4      0.349835  0.314130  0.347202  0.299314   0.299016  0.043164   \n",
       "...         ...       ...       ...       ...        ...       ...   \n",
       "24543  0.490687  0.485012  0.493933  0.470557   0.472697  0.044699   \n",
       "24544  0.467802  0.459897  0.358522  0.438704   0.440973  0.115144   \n",
       "24545  0.434806  0.509047  0.480143  0.510171   0.512151  0.071241   \n",
       "24546  0.515966  0.546854  0.554881  0.561028   0.562802  0.096620   \n",
       "24547  0.596062  0.678639  0.641478  0.687098   0.688363  0.556647   \n",
       "\n",
       "       Sentiments  Stock_ADANIENT.NS  Stock_ADANIPORTS.NS  \\\n",
       "0        0.454308                1.0                  0.0   \n",
       "1        0.454308                1.0                  0.0   \n",
       "2        0.454308                1.0                  0.0   \n",
       "3        0.454308                1.0                  0.0   \n",
       "4        0.454308                1.0                  0.0   \n",
       "...           ...                ...                  ...   \n",
       "24543    0.256683                0.0                  0.0   \n",
       "24544    0.166468                0.0                  0.0   \n",
       "24545    0.367750                0.0                  0.0   \n",
       "24546    0.533555                0.0                  0.0   \n",
       "24547    0.633596                0.0                  0.0   \n",
       "\n",
       "       Stock_APOLLOHOSP.NS  ...  Stock_SHRIRAMFIN.NS  Stock_SUNPHARMA.NS  \\\n",
       "0                      0.0  ...                  0.0                 0.0   \n",
       "1                      0.0  ...                  0.0                 0.0   \n",
       "2                      0.0  ...                  0.0                 0.0   \n",
       "3                      0.0  ...                  0.0                 0.0   \n",
       "4                      0.0  ...                  0.0                 0.0   \n",
       "...                    ...  ...                  ...                 ...   \n",
       "24543                  0.0  ...                  0.0                 0.0   \n",
       "24544                  0.0  ...                  0.0                 0.0   \n",
       "24545                  0.0  ...                  0.0                 0.0   \n",
       "24546                  0.0  ...                  0.0                 0.0   \n",
       "24547                  0.0  ...                  0.0                 0.0   \n",
       "\n",
       "       Stock_TATACONSUM.NS  Stock_TATAMOTORS.NS  Stock_TATASTEEL.NS  \\\n",
       "0                      0.0                  0.0                 0.0   \n",
       "1                      0.0                  0.0                 0.0   \n",
       "2                      0.0                  0.0                 0.0   \n",
       "3                      0.0                  0.0                 0.0   \n",
       "4                      0.0                  0.0                 0.0   \n",
       "...                    ...                  ...                 ...   \n",
       "24543                  0.0                  0.0                 0.0   \n",
       "24544                  0.0                  0.0                 0.0   \n",
       "24545                  0.0                  0.0                 0.0   \n",
       "24546                  0.0                  0.0                 0.0   \n",
       "24547                  0.0                  0.0                 0.0   \n",
       "\n",
       "       Stock_TCS.NS  Stock_TECHM.NS  Stock_TITAN.NS  Stock_ULTRACEMCO.NS  \\\n",
       "0               0.0             0.0             0.0                  0.0   \n",
       "1               0.0             0.0             0.0                  0.0   \n",
       "2               0.0             0.0             0.0                  0.0   \n",
       "3               0.0             0.0             0.0                  0.0   \n",
       "4               0.0             0.0             0.0                  0.0   \n",
       "...             ...             ...             ...                  ...   \n",
       "24543           0.0             0.0             0.0                  0.0   \n",
       "24544           0.0             0.0             0.0                  0.0   \n",
       "24545           0.0             0.0             0.0                  0.0   \n",
       "24546           0.0             0.0             0.0                  0.0   \n",
       "24547           0.0             0.0             0.0                  0.0   \n",
       "\n",
       "       Stock_WIPRO.NS  \n",
       "0                 0.0  \n",
       "1                 0.0  \n",
       "2                 0.0  \n",
       "3                 0.0  \n",
       "4                 0.0  \n",
       "...               ...  \n",
       "24543             1.0  \n",
       "24544             1.0  \n",
       "24545             1.0  \n",
       "24546             1.0  \n",
       "24547             1.0  \n",
       "\n",
       "[24548 rows x 57 columns]"
      ]
     },
     "execution_count": 9,
     "metadata": {},
     "output_type": "execute_result"
    }
   ],
   "source": [
    "df_for_training"
   ]
  },
  {
   "cell_type": "code",
   "execution_count": 6,
   "metadata": {
    "colab": {
     "base_uri": "https://localhost:8080/"
    },
    "executionInfo": {
     "elapsed": 506,
     "status": "ok",
     "timestamp": 1718822285136,
     "user": {
      "displayName": "Clyden Pacheco",
      "userId": "07798596330758231105"
     },
     "user_tz": -330
    },
    "id": "Ic3kPfmsEZ_o",
    "outputId": "e411e43d-d44c-4620-9d0b-d4e0156562c0"
   },
   "outputs": [
    {
     "data": {
      "text/plain": [
       "Index(['Open', 'High', 'Low', 'Close', 'Adj Close', 'Volume', 'Sentiments'], dtype='object')"
      ]
     },
     "execution_count": 6,
     "metadata": {},
     "output_type": "execute_result"
    }
   ],
   "source": [
    "df_for_training.columns[:7]"
   ]
  },
  {
   "cell_type": "code",
   "execution_count": 7,
   "metadata": {
    "executionInfo": {
     "elapsed": 578,
     "status": "ok",
     "timestamp": 1718822288152,
     "user": {
      "displayName": "Clyden Pacheco",
      "userId": "07798596330758231105"
     },
     "user_tz": -330
    },
    "id": "vcLgJK2-4yug"
   },
   "outputs": [],
   "source": [
    "# Function to create sequences\n",
    "def singleStepSampler(df, window):\n",
    "\txRes = []\n",
    "\tyRes = []\n",
    "\tfor i in range(0, len(df) - window):\n",
    "\t\tres = []\n",
    "\t\tfor j in range(0, window):\n",
    "\t\t\tr = []\n",
    "\t\t\tfor col in df.columns:\n",
    "\t\t\t\tr.append(df[col][i + j])\n",
    "\t\t\tres.append(r)\n",
    "\t\txRes.append(res)\n",
    "\t\tyRes.append(df[['Open', 'Close', 'High', 'Low', 'Adj Close', 'Volume', 'Sentiments']].iloc[i + window].values)\n",
    "\treturn np.array(xRes), np.array(yRes)"
   ]
  },
  {
   "cell_type": "code",
   "execution_count": 8,
   "metadata": {
    "id": "Omz3OAZs5Apb"
   },
   "outputs": [
    {
     "name": "stdout",
     "output_type": "stream",
     "text": [
      "(24528, 20, 57)\n",
      "(24528, 7)\n",
      "(24528, 20, 57)\n",
      "(24528, 7)\n",
      "(0, 20, 57)\n",
      "(0, 7)\n"
     ]
    }
   ],
   "source": [
    "# Dataset splitting\n",
    "SPLIT = 1.0\n",
    "(xVal, yVal) = singleStepSampler(df_for_training, 20)\n",
    "X_train = xVal[:int(SPLIT * len(xVal))]\n",
    "y_train = yVal[:int(SPLIT * len(yVal))]\n",
    "X_test = xVal[int(SPLIT * len(xVal)):]\n",
    "y_test = yVal[int(SPLIT * len(yVal)):]\n",
    "print(xVal.shape)\n",
    "print(yVal.shape)\n",
    "print(X_train.shape)\n",
    "print(y_train.shape)\n",
    "print(X_test.shape)\n",
    "print(y_test.shape)"
   ]
  },
  {
   "cell_type": "code",
   "execution_count": 15,
   "metadata": {
    "colab": {
     "base_uri": "https://localhost:8080/"
    },
    "executionInfo": {
     "elapsed": 841,
     "status": "ok",
     "timestamp": 1718818528922,
     "user": {
      "displayName": "Clyden Pacheco",
      "userId": "07798596330758231105"
     },
     "user_tz": -330
    },
    "id": "1ubmvlCi6f71",
    "outputId": "0feb7b62-5fef-4880-b983-22f808eb0634"
   },
   "outputs": [
    {
     "name": "stdout",
     "output_type": "stream",
     "text": [
      "Model: \"sequential_3\"\n",
      "_________________________________________________________________\n",
      " Layer (type)                Output Shape              Param #   \n",
      "=================================================================\n",
      " lstm_6 (LSTM)               (None, 20, 200)           206400    \n",
      "                                                                 \n",
      " dropout_6 (Dropout)         (None, 20, 200)           0         \n",
      "                                                                 \n",
      " lstm_7 (LSTM)               (None, 100)               120400    \n",
      "                                                                 \n",
      " dropout_7 (Dropout)         (None, 100)               0         \n",
      "                                                                 \n",
      " dense_3 (Dense)             (None, 7)                 707       \n",
      "                                                                 \n",
      "=================================================================\n",
      "Total params: 327507 (1.25 MB)\n",
      "Trainable params: 327507 (1.25 MB)\n",
      "Non-trainable params: 0 (0.00 Byte)\n",
      "_________________________________________________________________\n"
     ]
    }
   ],
   "source": [
    "# Building the model\n",
    "\n",
    "multivariate_lstm = keras.Sequential()\n",
    "\n",
    "# First LSTM layer to capture short-term dependencies within the window\n",
    "multivariate_lstm.add(keras.layers.LSTM(200, return_sequences=True, input_shape=(X_train.shape[1], X_train.shape[2])))\n",
    "multivariate_lstm.add(keras.layers.Dropout(0.2))  # Dropout for regularization\n",
    "\n",
    "# Second LSTM layer to capture potential hierarchical features\n",
    "multivariate_lstm.add(keras.layers.LSTM(100))  # Experiment with different units here\n",
    "multivariate_lstm.add(keras.layers.Dropout(0.2))  # Dropout for regularization\n",
    "\n",
    "# Dense layer with ReLU activation for non-linearity\n",
    "multivariate_lstm.add(keras.layers.Dense(7, activation='relu'))\n",
    "\n",
    "# Compile the model with Adam optimizer and Mean Squared Error loss\n",
    "multivariate_lstm.compile(loss = 'MeanSquaredError', metrics=['MAE'], optimizer='Adam')\n",
    "\n",
    "# Print model summary\n",
    "multivariate_lstm.summary()"
   ]
  },
  {
   "cell_type": "code",
   "execution_count": null,
   "metadata": {
    "colab": {
     "base_uri": "https://localhost:8080/"
    },
    "executionInfo": {
     "elapsed": 2967783,
     "status": "ok",
     "timestamp": 1718821505301,
     "user": {
      "displayName": "Clyden Pacheco",
      "userId": "07798596330758231105"
     },
     "user_tz": -330
    },
    "id": "0UiGrwAB6gnU",
    "outputId": "507089bb-5b68-4892-87a7-df4cc4f568a6"
   },
   "outputs": [],
   "source": [
    "# Fitting the data to the model\n",
    "history = multivariate_lstm.fit(X_train, y_train, epochs=100)"
   ]
  },
  {
   "cell_type": "code",
   "execution_count": null,
   "metadata": {
    "colab": {
     "base_uri": "https://localhost:8080/"
    },
    "executionInfo": {
     "elapsed": 589,
     "status": "ok",
     "timestamp": 1718815059031,
     "user": {
      "displayName": "Clyden Pacheco",
      "userId": "07798596330758231105"
     },
     "user_tz": -330
    },
    "id": "_5KqDP2QCyYa",
    "outputId": "d94af31e-be9b-4e96-87e2-bdfb303a5bdf"
   },
   "outputs": [],
   "source": [
    "# Save the model to a specific path\n",
    "model_path = '/Models/multivariate_lstm_model3.h5'\n",
    "multivariate_lstm.save(model_path)"
   ]
  }
 ],
 "metadata": {
  "colab": {
   "authorship_tag": "ABX9TyOxk8dG1ZddX05T4+uC8fEM",
   "mount_file_id": "1jTr-zAI3mYWWp4AHGLgLJX4RO9-xNF3y",
   "provenance": []
  },
  "kernelspec": {
   "display_name": "Python 3 (ipykernel)",
   "language": "python",
   "name": "python3"
  },
  "language_info": {
   "codemirror_mode": {
    "name": "ipython",
    "version": 3
   },
   "file_extension": ".py",
   "mimetype": "text/x-python",
   "name": "python",
   "nbconvert_exporter": "python",
   "pygments_lexer": "ipython3",
   "version": "3.11.0"
  }
 },
 "nbformat": 4,
 "nbformat_minor": 4
}
